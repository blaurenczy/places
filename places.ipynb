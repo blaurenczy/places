{
 "cells": [
  {
   "cell_type": "markdown",
   "metadata": {},
   "source": [
    "Places\n",
    "===\n",
    "This is a script to extract, gather, and analyze data from visites places."
   ]
  },
  {
   "cell_type": "code",
   "execution_count": null,
   "metadata": {},
   "outputs": [],
   "source": [
    "%load_ext autoreload\n",
    "%autoreload 2\n",
    "\n",
    "import logging\n",
    "logging.basicConfig(format='%(asctime)s|%(levelname)-5s| %(message)s', level=logging.INFO)\n",
    "\n",
    "import pandas as pd\n",
    "import datetime\n",
    "import glob\n",
    "from geopy import distance\n",
    "from geopy.geocoders import Nominatim\n",
    "\n",
    "import places_api"
   ]
  },
  {
   "cell_type": "markdown",
   "metadata": {},
   "source": [
    "Read in the KML file\n",
    "--"
   ]
  },
  {
   "cell_type": "code",
   "execution_count": null,
   "metadata": {
    "scrolled": true
   },
   "outputs": [],
   "source": [
    "df = places_api.read_file('data/geodata.kml')"
   ]
  },
  {
   "cell_type": "markdown",
   "metadata": {},
   "source": [
    "Read in the pickle file\n",
    "--\n",
    "(already processed DataFrame)"
   ]
  },
  {
   "cell_type": "code",
   "execution_count": null,
   "metadata": {
    "scrolled": true
   },
   "outputs": [],
   "source": [
    "df_save = pd.read_pickle('data/places.pkl')\n",
    "df = df_save"
   ]
  },
  {
   "cell_type": "markdown",
   "metadata": {},
   "source": [
    "Process the DataFrame\n",
    "--"
   ]
  },
  {
   "cell_type": "code",
   "execution_count": null,
   "metadata": {},
   "outputs": [],
   "source": [
    "df = places_api.process(df)\n",
    "df"
   ]
  },
  {
   "cell_type": "markdown",
   "metadata": {},
   "source": [
    "Fix the data reading in part\n",
    "--"
   ]
  },
  {
   "cell_type": "code",
   "execution_count": null,
   "metadata": {},
   "outputs": [],
   "source": [
    "import codecs\n",
    "from lxml import html\n",
    "file_name = 'data/geodata.kml'\n",
    "\n",
    "# read in the file with UTF-8 encoding\n",
    "logging.info('Reading file {}'.format(file_name))\n",
    "with codecs.open(file_name, encoding='utf-8') as f:\n",
    "    kml = f.read()\n",
    "\n",
    "# decode and re-encode to UTF-8 after doing some replacements\n",
    "logging.info('Cleaning KML')\n",
    "kml = kml.encode('utf-8')\n",
    "\n",
    "# read the document as HTML/XML\n",
    "logging.info('Converting to HTML')\n",
    "doc = html.fromstring(kml)\n",
    "\n",
    "# create the DataFrame and the coounter\n",
    "df = pd.DataFrame(columns=['name', 'timestamp', 'color', 'coords_long', 'coords_lat',\n",
    "    'category', 'icon'])\n",
    "i = 0\n",
    "\n",
    "# parse the file for some relevant information\n",
    "logging.info('Parsing out placemarks')\n",
    "for placemark in doc.cssselect('Document Placemark'):\n",
    "    # parse out the main fields\n",
    "    name = placemark.cssselect('name')[0].text"
   ]
  },
  {
   "cell_type": "markdown",
   "metadata": {},
   "source": [
    "Fix the reverse geocoding part\n",
    "--"
   ]
  },
  {
   "cell_type": "code",
   "execution_count": null,
   "metadata": {},
   "outputs": [],
   "source": [
    "df[df['category'].str.contains('place-city')]"
   ]
  },
  {
   "cell_type": "code",
   "execution_count": null,
   "metadata": {},
   "outputs": [],
   "source": [
    "df.loc[:, 'city_Nominatim'] = None\n",
    "key_list = ['city', 'town', 'village', 'hamlet', 'suburb']\n",
    "for key in key_list:\n",
    "    no_city_rows = df['city_Nominatim'].isnull()\n",
    "    df.loc[no_city_rows, 'city_Nominatim'] = df[no_city_rows]['location_Nominatim'].apply(\n",
    "        lambda location: location.raw.get('address').get(key))\n",
    "\n",
    "df.loc[:, 'state_Nominatim'] = None\n",
    "key_list = ['county', 'city_district', 'state_district', 'state', 'attraction']\n",
    "for key in key_list:\n",
    "    no_city_rows = df['state_Nominatim'].isnull()\n",
    "    df.loc[no_city_rows, 'state_Nominatim'] = df[no_city_rows]['location_Nominatim'].apply(\n",
    "        lambda location: location.raw.get('address').get(key))"
   ]
  },
  {
   "cell_type": "code",
   "execution_count": null,
   "metadata": {},
   "outputs": [],
   "source": [
    "df.groupby(df['city_Nominatim'].ffill()'city_Nominatim')['name'].count().sort_values()"
   ]
  },
  {
   "cell_type": "code",
   "execution_count": null,
   "metadata": {},
   "outputs": [],
   "source": [
    "len(df)"
   ]
  },
  {
   "cell_type": "code",
   "execution_count": null,
   "metadata": {},
   "outputs": [],
   "source": []
  },
  {
   "cell_type": "code",
   "execution_count": null,
   "metadata": {},
   "outputs": [],
   "source": []
  }
 ],
 "metadata": {
  "kernelspec": {
   "display_name": "Python 3",
   "language": "python",
   "name": "python3"
  },
  "language_info": {
   "codemirror_mode": {
    "name": "ipython",
    "version": 3
   },
   "file_extension": ".py",
   "mimetype": "text/x-python",
   "name": "python",
   "nbconvert_exporter": "python",
   "pygments_lexer": "ipython3",
   "version": "3.7.4"
  }
 },
 "nbformat": 4,
 "nbformat_minor": 2
}
